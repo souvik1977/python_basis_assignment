{
  "nbformat": 4,
  "nbformat_minor": 0,
  "metadata": {
    "colab": {
      "provenance": []
    },
    "kernelspec": {
      "name": "python3",
      "display_name": "Python 3"
    },
    "language_info": {
      "name": "python"
    }
  },
  "cells": [
    {
      "cell_type": "markdown",
      "source": [
        "1. What is Python, and why is it popular?\n",
        "- Python is a programming language which is used to create softwares, websites, scripts. Python is an interpreted language. Python is also being used for Machine Learning, Artificial Intelligence, Deep Learning and Generative AI.\n",
        "Python is easy to learn, having millions of pre-written codes called libraries which makes it easy for developers to reuse the code without rewrite the solution from scratch.\n",
        "\n",
        "2. What is an interpreter in Python?\n",
        " - Python interpreter converts codes written by the programmers into machine understandable low level codes contains bits. Python interpreter reads the source code line by line and tranlates into machine code at real time.\n",
        "\n",
        "3. What are pre-defined keywords in Python?\n",
        "- Pre-defined key words are the literals which are reserved words in python bearing special meaning. These keywords cannot be used as variable names.\n",
        "\n",
        "4. Can keywords be used as variable names?\n",
        "- No\n",
        "\n",
        "5. What is mutability in Python?\n",
        "- Ability to change after the object creation. Python mutable objects can be modified after creation.\n",
        "\n",
        "6. Why are lists mutable, but tuples are immutable?\n",
        "- In Python, Built-In data types are immutable. Tuple is a built-In data types in python so immutable. However List is not a built-in data type so it is mutable.\n",
        "\n",
        "7. What is the difference between “==” and “is” operators in Python?\n",
        "- In Python \"==\" checks the equality of the value of two variables where as \"is\" checks if two variables are refering to same object in memory.\n",
        "\n",
        "8. What are logical operators in Python?\n",
        "- Logical operators in python (and, or, not) are used to check boolean expressions and resulting in a boolean result. Logical 'and' returns true if only both operands are retruning 'True'. Where as 'or' returns 'True' if anyone of them are returning 'True'. 'Not' operator flips the input value.\n",
        "\n",
        "9. What is type casting in Python?\n",
        "- In Python, type casting helps converting one data type to another data type.  Example; X='123' is considered as a string and arithmatic operations can't be performed on string. However we can convert this string to an Integer data type by using inbuild type cast operator named int(). Ex; int(X) will convert this to integer and arithmatic operation can be performed. There are many in-build casting operators are available named int(), float(), str(), bool() etc.\n",
        "There are implicit type casting and explicit type casting available in java.\n",
        "\n",
        "10. What is the difference between implicit and explicit type casting?\n",
        "- Implicit type casting where Python compiler automatically performs conversion. Convertion of 'int' to 'float' data type is an example.\n",
        " Explicit type casting where programmers are performing the data type conversion using casting operator. String data type to integer conversion is an example.\n",
        "\n",
        "11. What is the purpose of conditional statements in Python?\n",
        "- Conditional statements in python helps evaluating certain conditions to perform certain computations if met/or not met depends on the logic driven by the programmers.\n",
        "\n",
        "12. How does the elif statement work?\n",
        " - Elif is basically a nested if condition. Elif evaluates the next condition if true in case of initial evaluation is false.\n",
        "\n",
        "13. What is the difference between for and while loops?\n",
        "- 'for' loops are useful when number of iterations are known and 'while' loop is useful when iteration numbers are unknown and depends on the dynamic condition.\n",
        "\n",
        "14. Describe a scenario where a while loop is more suitable than a for loop?\n",
        "- One simple scenario could be adding two integer numbers as provided by the user at run time. The condition could be, user can execute the process as many time he/she wants. The process will be dependent on the user input to define if it will iterate or not. If user inputs 'Yes' then loop will iterate; in case of any other values; loop will be terminated.\n",
        "This cannot be done using 'for' as decision for iteration will be unknown at the begining."
      ],
      "metadata": {
        "id": "Inx9RQBOtqeg"
      }
    },
    {
      "cell_type": "markdown",
      "source": [],
      "metadata": {
        "id": "SSoQD_B-ucj3"
      }
    },
    {
      "cell_type": "code",
      "execution_count": 1,
      "metadata": {
        "colab": {
          "base_uri": "https://localhost:8080/"
        },
        "id": "2QlwoKectmkg",
        "outputId": "bbdba231-4d1c-4274-fb70-c59794f89492"
      },
      "outputs": [
        {
          "output_type": "stream",
          "name": "stdout",
          "text": [
            "Hello, World!\n"
          ]
        }
      ],
      "source": [
        "#1. Write a Python program to print \"Hello, World!\n",
        "print(\"Hello, World!\")"
      ]
    },
    {
      "cell_type": "code",
      "source": [
        "#2. Write a Python program that displays your name and age.\n",
        "name = \"Tom\"\n",
        "age = 12\n",
        "print(f\"Name is \"+name+\" and Age is \"+str(age))"
      ],
      "metadata": {
        "colab": {
          "base_uri": "https://localhost:8080/"
        },
        "id": "qaEV3tKt-PNy",
        "outputId": "08f2af7d-dc9c-4921-9af1-ba0fd222015e"
      },
      "execution_count": 3,
      "outputs": [
        {
          "output_type": "stream",
          "name": "stdout",
          "text": [
            "Name is Tom and Age is 12\n"
          ]
        }
      ]
    },
    {
      "cell_type": "code",
      "source": [
        "#3. Write code to print all the pre-defined keywords in Python using the keyword library.\n",
        "import keyword\n",
        "print(keyword.kwlist)"
      ],
      "metadata": {
        "colab": {
          "base_uri": "https://localhost:8080/"
        },
        "id": "OFdD411o-n1Z",
        "outputId": "176105ef-d454-4938-c188-564ca10c4121"
      },
      "execution_count": 6,
      "outputs": [
        {
          "output_type": "stream",
          "name": "stdout",
          "text": [
            "['False', 'None', 'True', 'and', 'as', 'assert', 'async', 'await', 'break', 'class', 'continue', 'def', 'del', 'elif', 'else', 'except', 'finally', 'for', 'from', 'global', 'if', 'import', 'in', 'is', 'lambda', 'nonlocal', 'not', 'or', 'pass', 'raise', 'return', 'try', 'while', 'with', 'yield']\n"
          ]
        }
      ]
    },
    {
      "cell_type": "code",
      "source": [
        "# 4. Write a program that checks if a given word is a Python keyword.\n",
        "keyword.iskeyword('if')"
      ],
      "metadata": {
        "colab": {
          "base_uri": "https://localhost:8080/"
        },
        "id": "oxQ8Z1Og_JWP",
        "outputId": "6e2fb681-a6a3-419a-a9b9-4cc8927e1a85"
      },
      "execution_count": 8,
      "outputs": [
        {
          "output_type": "execute_result",
          "data": {
            "text/plain": [
              "True"
            ]
          },
          "metadata": {},
          "execution_count": 8
        }
      ]
    },
    {
      "cell_type": "code",
      "source": [
        "# 5. Create a list and tuple in Python, and demonstrate how attempting to change an element works differently for each.\n",
        "L1 = [\"Apple\", \"Banna\", \"Mango\", 3.3]\n",
        "T1 = (\"Apple\", \"Banna\", \"Mango\", 3.3)\n",
        "\n",
        "print(\"List Items: {}\".format(L1))\n",
        "print(\"Tuple Items: {}\".format(T1))\n",
        "\n",
        "L1[2] = \"Guava\"\n",
        "#T1[2] = \"Guava\" #This will throw an error as Tuple is immutable in nature\n",
        "\n",
        "print(\"List Items after change: {}\".format(L1))\n",
        "print(\"Tuple Items after change: {}\".format(T1))"
      ],
      "metadata": {
        "colab": {
          "base_uri": "https://localhost:8080/"
        },
        "id": "8-HAEkeC_gvV",
        "outputId": "c71ff6be-de7a-4c94-e13b-544a6844864c"
      },
      "execution_count": 11,
      "outputs": [
        {
          "output_type": "stream",
          "name": "stdout",
          "text": [
            "List Items: ['Apple', 'Banna', 'Mango', 3.3]\n",
            "Tuple Items: ('Apple', 'Banna', 'Mango', 3.3)\n",
            "List Items after change: ['Apple', 'Banna', 'Guava', 3.3]\n",
            "Tuple Items after change: ('Apple', 'Banna', 'Mango', 3.3)\n"
          ]
        }
      ]
    },
    {
      "cell_type": "code",
      "source": [
        "#6. Write a function to demonstrate the behavior of mutable and immutable arguments.\n",
        "myL = [1,10,5,6,\"Kolkata\"]\n",
        "myT = (1,10,5,6,\"Kolkata\")\n",
        "\n",
        "print(\"Initial List Items are {}\".format(myL))\n",
        "print(\"Initial Tuple Items are {}\".format(myT))\n",
        "def changeMe(l1, t1):\n",
        "  #trying to change list items:\n",
        "  for i in l1:\n",
        "    indx = l1.index(i)\n",
        "    ui = input(\"Enter a new value:\")\n",
        "    l1[indx] = ui\n",
        "\n",
        "  #We cannot change the tupple values post creation\n",
        "\n",
        "changeMe(myL,myT)\n",
        "print(\"List Items are {}\".format(myL))\n",
        "print(\"Tuple Items are {}\".format(myT))"
      ],
      "metadata": {
        "colab": {
          "base_uri": "https://localhost:8080/"
        },
        "id": "lcrSJJzBA5rj",
        "outputId": "5107aeac-91cc-4e81-f8a3-fb1f7be30c4a"
      },
      "execution_count": 16,
      "outputs": [
        {
          "output_type": "stream",
          "name": "stdout",
          "text": [
            "Initial List Items are [1, 10, 5, 6, 'Kolkata']\n",
            "Initial Tuple Items are (1, 10, 5, 6, 'Kolkata')\n",
            "Enter a new value:\"India\"\n",
            "Enter a new value:\"Delhi\"\n",
            "Enter a new value:3.56\n",
            "Enter a new value:3+4j\n",
            "Enter a new value:Nepal\n",
            "List Items are ['\"India\"', '\"Delhi\"', '3.56', '3+4j', 'Nepal']\n",
            "Tuple Items are (1, 10, 5, 6, 'Kolkata')\n"
          ]
        }
      ]
    },
    {
      "cell_type": "code",
      "source": [
        "#7. Write a program that performs basic arithmetic operations on two user-input numbers.\n",
        "val1 = int(input(\"Enter First Value [Must be an integer]:\"))\n",
        "val2 = int(input(\"Enter Second Value [Must be an integer]:\"))\n",
        "\n",
        "#Performing additon\n",
        "res = val1 + val2\n",
        "print(str(res))\n",
        "\n",
        "#Performing subtraction\n",
        "res = val1 - val2\n",
        "print(str(res))\n",
        "#Performing multiplication\n",
        "res = val1 * val2\n",
        "print(str(res))\n",
        "#Performing division\n",
        "if val2 != 0:\n",
        "   res = val1 / val2\n",
        "else:\n",
        "  res = \"Invalid Divisor\"\n",
        "print(str(res))\n",
        "#Performing modulation operation\n",
        "if val2 != 0:\n",
        "   res = val1 / val2\n",
        "else:\n",
        "  res = \"Second value is invalid\"\n",
        "print(str(res))"
      ],
      "metadata": {
        "colab": {
          "base_uri": "https://localhost:8080/"
        },
        "id": "JMmBz71fEL7j",
        "outputId": "4493b322-b2e9-45c0-aed5-aab17ccbf194"
      },
      "execution_count": 22,
      "outputs": [
        {
          "output_type": "stream",
          "name": "stdout",
          "text": [
            "Enter First Value [Must be an integer]:10\n",
            "Enter Second Value [Must be an integer]:0\n",
            "10\n",
            "10\n",
            "0\n",
            "Invalid Divisor\n",
            "Second value is invalid\n"
          ]
        }
      ]
    },
    {
      "cell_type": "code",
      "source": [
        "#8. Write a program to demonstrate the use of logical operators.\n",
        "A = 10\n",
        "B = 5\n",
        "\n",
        "# Logical and checking\n",
        "if A and B:\n",
        "  print(\"True\")\n",
        "else:\n",
        "  print(\"False\")\n",
        "\n",
        "#Logical OR checking\n",
        "if A or B:\n",
        "  print(\"True\")\n",
        "else:\n",
        "  print(\"False\")\n",
        "\n",
        "#Logical not checking\n",
        "sunny = False\n",
        "if not sunny:\n",
        "  print(\"It is raining\")\n",
        "else:\n",
        "  print(\"It is not raining\")\n",
        "\n"
      ],
      "metadata": {
        "colab": {
          "base_uri": "https://localhost:8080/"
        },
        "id": "fm4Uy_uyF_dn",
        "outputId": "69179855-a7f2-46ef-c873-4f113aee91e6"
      },
      "execution_count": 24,
      "outputs": [
        {
          "output_type": "stream",
          "name": "stdout",
          "text": [
            "True\n",
            "True\n",
            "It is raining\n"
          ]
        }
      ]
    },
    {
      "cell_type": "code",
      "source": [
        "#9. Write a Python program to convert user input from string to integer, float, and boolean types.\n",
        "myVal = input(\"Enter any number:\")\n",
        "print(\"Original User Input {}\".format(myVal))\n",
        "myInt = int(myVal)\n",
        "myFlt = float(myVal)\n",
        "myBool = bool(myVal)\n",
        "\n",
        "print(\"Integer value {}\".format(myInt))\n",
        "print(\"Float value {}\".format(myFlt))\n",
        "print(\"Boolean value {}\".format(myBool))"
      ],
      "metadata": {
        "colab": {
          "base_uri": "https://localhost:8080/"
        },
        "id": "P8QjVftLHmNM",
        "outputId": "9df88354-81cd-4597-dfeb-a50b1f924b4b"
      },
      "execution_count": 27,
      "outputs": [
        {
          "output_type": "stream",
          "name": "stdout",
          "text": [
            "Enter any number:10\n",
            "Original User Input 10\n",
            "Integer value 10\n",
            "Float value 10.0\n",
            "Boolean value True\n"
          ]
        }
      ]
    },
    {
      "cell_type": "code",
      "source": [
        "#10. Write code to demonstrate type casting with list elements.\n",
        "#Converting an integer list to 'character list\n",
        "a = [1,2,4,9,10,20]\n",
        "print(a)\n",
        "b = [str(x) for x in a]\n",
        "print(b)"
      ],
      "metadata": {
        "colab": {
          "base_uri": "https://localhost:8080/"
        },
        "id": "H4n4WBfhIn4s",
        "outputId": "cab71b8a-f464-48c8-e384-03bfb5728630"
      },
      "execution_count": 29,
      "outputs": [
        {
          "output_type": "stream",
          "name": "stdout",
          "text": [
            "[1, 2, 4, 9, 10, 20]\n",
            "['1', '2', '4', '9', '10', '20']\n"
          ]
        }
      ]
    },
    {
      "cell_type": "code",
      "source": [
        "#11. Write a program that checks if a number is positive, negative, or zero.\n",
        "val = int(input(\"Enter a whole number:\"))\n",
        "if val == 0:\n",
        "  print(\"Entered value is zero\")\n",
        "elif val < 0:\n",
        "  print(\"Entered value is negetive\")\n",
        "else:\n",
        "  print(\"Entered value is positive\")"
      ],
      "metadata": {
        "colab": {
          "base_uri": "https://localhost:8080/"
        },
        "id": "SlhMTcKuJeHG",
        "outputId": "4aede488-5b0b-4f3c-afba-9b08b3c80b45"
      },
      "execution_count": 35,
      "outputs": [
        {
          "output_type": "stream",
          "name": "stdout",
          "text": [
            "Enter a whole number:5\n",
            "Entered value is positive\n"
          ]
        }
      ]
    },
    {
      "cell_type": "code",
      "source": [
        "#12.  Write a for loop to print numbers from 1 to 10.\n",
        "for i in range(1,11):\n",
        "  print(i)"
      ],
      "metadata": {
        "colab": {
          "base_uri": "https://localhost:8080/"
        },
        "id": "XUBPDC_fKgP9",
        "outputId": "8afc04d0-0664-4cd7-fd90-8588a084af41"
      },
      "execution_count": 40,
      "outputs": [
        {
          "output_type": "stream",
          "name": "stdout",
          "text": [
            "1\n",
            "2\n",
            "3\n",
            "4\n",
            "5\n",
            "6\n",
            "7\n",
            "8\n",
            "9\n",
            "10\n"
          ]
        }
      ]
    },
    {
      "cell_type": "code",
      "source": [
        "#13. Write a Python program to find the sum of all even numbers between 1 and 50.\n",
        "S = 0\n",
        "for i in range(1,51):\n",
        "  if i%2 == 0:\n",
        "    S += i\n",
        "  else:\n",
        "    pass\n",
        "\n",
        "print(\"Sum = {}\".format(S))"
      ],
      "metadata": {
        "colab": {
          "base_uri": "https://localhost:8080/"
        },
        "id": "LBCOXrGMLBNz",
        "outputId": "203d2fbb-a88e-4042-ac1b-a607faa7d2e2"
      },
      "execution_count": 41,
      "outputs": [
        {
          "output_type": "stream",
          "name": "stdout",
          "text": [
            "Sum = 650\n"
          ]
        }
      ]
    },
    {
      "cell_type": "code",
      "source": [
        "#14. Write a program to reverse a string using a while loop.\n",
        "S = \"India\"\n",
        "L = len(S)\n",
        "while L > 0:\n",
        "  print(S[L-1])\n",
        "  L -= 1"
      ],
      "metadata": {
        "colab": {
          "base_uri": "https://localhost:8080/"
        },
        "id": "NdkN6I4pLXpv",
        "outputId": "f204275d-e7b8-411b-8b14-3ce6c5c45aae"
      },
      "execution_count": 43,
      "outputs": [
        {
          "output_type": "stream",
          "name": "stdout",
          "text": [
            "a\n",
            "i\n",
            "d\n",
            "n\n",
            "I\n"
          ]
        }
      ]
    },
    {
      "cell_type": "code",
      "source": [
        "#15. Write a Python program to calculate the factorial of a number provided by the user using a while loop.\n",
        "fact = 1\n",
        "i = 1\n",
        "\n",
        "n = int(input(\"Enter a Number range to calculate Factorial:\"))\n",
        "if n < 0 or n == 0:\n",
        "  print(\"Sorry, Factorial cannot be calculate for given number, Please provide a positive number greater than 0\")\n",
        "else:\n",
        "  while i <= n:\n",
        "    fact = fact*i\n",
        "    i = i + 1\n",
        "  print(\"Factorial is {}\".format(fact))"
      ],
      "metadata": {
        "colab": {
          "base_uri": "https://localhost:8080/"
        },
        "id": "xXkF8ZrsMLOi",
        "outputId": "01527531-f984-4f89-934d-4f78616a6f65"
      },
      "execution_count": 48,
      "outputs": [
        {
          "output_type": "stream",
          "name": "stdout",
          "text": [
            "Enter a Number range to calculate Factorial:0\n",
            "Sorry, Factorial cannot be calculate for given number, Please provide a positive number greater than 0\n"
          ]
        }
      ]
    }
  ]
}